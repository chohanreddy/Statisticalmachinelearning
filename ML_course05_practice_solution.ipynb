{
 "cells": [
  {
   "cell_type": "markdown",
   "metadata": {},
   "source": [
    "# ML Course 5 - Practice (correction)"
   ]
  },
  {
   "cell_type": "markdown",
   "metadata": {},
   "source": [
    "## Subject"
   ]
  },
  {
   "cell_type": "markdown",
   "metadata": {},
   "source": [
    "We will use here the same data set as for practice #3."
   ]
  },
  {
   "cell_type": "markdown",
   "metadata": {},
   "source": [
    "**`FuelConsumption.csv`** is a vehicle fuel consumption data set that contains model-specific fuel consumption.\n",
    "-   **MODELYEAR** e.g. 2014\n",
    "-   **MAKE** e.g. Acura\n",
    "-   **MODEL** e.g. ILX\n",
    "-   **VEHICLE CLASS** e.g. SUV\n",
    "-   **ENGINE SIZE** e.g. 4.7\n",
    "-   **CYLINDERS** e.g 6\n",
    "-   **TRANSMISSION** e.g. A6\n",
    "-   **FUEL CONSUMPTION in CITY(L/100 km)** e.g. 9.9\n",
    "-   **FUEL CONSUMPTION in HWY (L/100 km)** e.g. 8.9\n",
    "-   **FUEL CONSUMPTION COMB (L/100 km)** e.g. 9.2\n",
    "-   **CO2 EMISSIONS (g/km)** e.g. 182   --> low --> 0"
   ]
  },
  {
   "cell_type": "code",
   "execution_count": 1,
   "metadata": {},
   "outputs": [],
   "source": [
    "import numpy as np\n",
    "import matplotlib.pyplot as plt\n",
    "import pandas as pd\n",
    "import sklearn "
   ]
  },
  {
   "cell_type": "code",
   "execution_count": 4,
   "metadata": {},
   "outputs": [],
   "source": [
    "data = pd.read_csv(\"Complexity 1/FuelConsumption.csv\")"
   ]
  },
  {
   "cell_type": "code",
   "execution_count": 5,
   "metadata": {},
   "outputs": [
    {
     "data": {
      "text/html": [
       "<div>\n",
       "<style scoped>\n",
       "    .dataframe tbody tr th:only-of-type {\n",
       "        vertical-align: middle;\n",
       "    }\n",
       "\n",
       "    .dataframe tbody tr th {\n",
       "        vertical-align: top;\n",
       "    }\n",
       "\n",
       "    .dataframe thead th {\n",
       "        text-align: right;\n",
       "    }\n",
       "</style>\n",
       "<table border=\"1\" class=\"dataframe\">\n",
       "  <thead>\n",
       "    <tr style=\"text-align: right;\">\n",
       "      <th></th>\n",
       "      <th>MODELYEAR</th>\n",
       "      <th>MAKE</th>\n",
       "      <th>MODEL</th>\n",
       "      <th>VEHICLECLASS</th>\n",
       "      <th>ENGINESIZE</th>\n",
       "      <th>CYLINDERS</th>\n",
       "      <th>TRANSMISSION</th>\n",
       "      <th>FUELTYPE</th>\n",
       "      <th>FUELCONSUMPTION_CITY</th>\n",
       "      <th>FUELCONSUMPTION_HWY</th>\n",
       "      <th>FUELCONSUMPTION_COMB</th>\n",
       "      <th>FUELCONSUMPTION_COMB_MPG</th>\n",
       "      <th>CO2EMISSIONS</th>\n",
       "    </tr>\n",
       "  </thead>\n",
       "  <tbody>\n",
       "    <tr>\n",
       "      <th>428</th>\n",
       "      <td>2014</td>\n",
       "      <td>FORD</td>\n",
       "      <td>TRANSIT CONNECT</td>\n",
       "      <td>SPECIAL PURPOSE VEHICLE</td>\n",
       "      <td>1.6</td>\n",
       "      <td>4</td>\n",
       "      <td>AS6</td>\n",
       "      <td>X</td>\n",
       "      <td>10.8</td>\n",
       "      <td>8.0</td>\n",
       "      <td>9.5</td>\n",
       "      <td>30</td>\n",
       "      <td>218</td>\n",
       "    </tr>\n",
       "    <tr>\n",
       "      <th>131</th>\n",
       "      <td>2014</td>\n",
       "      <td>BMW</td>\n",
       "      <td>X5 xDRIVE50i</td>\n",
       "      <td>SUV - STANDARD</td>\n",
       "      <td>4.4</td>\n",
       "      <td>8</td>\n",
       "      <td>A8</td>\n",
       "      <td>Z</td>\n",
       "      <td>16.3</td>\n",
       "      <td>10.9</td>\n",
       "      <td>13.9</td>\n",
       "      <td>20</td>\n",
       "      <td>320</td>\n",
       "    </tr>\n",
       "    <tr>\n",
       "      <th>1051</th>\n",
       "      <td>2014</td>\n",
       "      <td>VOLKSWAGEN</td>\n",
       "      <td>TIGUAN</td>\n",
       "      <td>SUV - SMALL</td>\n",
       "      <td>2.0</td>\n",
       "      <td>4</td>\n",
       "      <td>A6</td>\n",
       "      <td>Z</td>\n",
       "      <td>11.7</td>\n",
       "      <td>9.5</td>\n",
       "      <td>10.7</td>\n",
       "      <td>26</td>\n",
       "      <td>246</td>\n",
       "    </tr>\n",
       "    <tr>\n",
       "      <th>662</th>\n",
       "      <td>2014</td>\n",
       "      <td>LEXUS</td>\n",
       "      <td>IS 250</td>\n",
       "      <td>COMPACT</td>\n",
       "      <td>2.5</td>\n",
       "      <td>6</td>\n",
       "      <td>AS6</td>\n",
       "      <td>Z</td>\n",
       "      <td>11.2</td>\n",
       "      <td>7.8</td>\n",
       "      <td>9.7</td>\n",
       "      <td>29</td>\n",
       "      <td>223</td>\n",
       "    </tr>\n",
       "    <tr>\n",
       "      <th>832</th>\n",
       "      <td>2014</td>\n",
       "      <td>NISSAN</td>\n",
       "      <td>370Z</td>\n",
       "      <td>TWO-SEATER</td>\n",
       "      <td>3.7</td>\n",
       "      <td>6</td>\n",
       "      <td>AS7</td>\n",
       "      <td>Z</td>\n",
       "      <td>12.6</td>\n",
       "      <td>9.1</td>\n",
       "      <td>11.0</td>\n",
       "      <td>26</td>\n",
       "      <td>253</td>\n",
       "    </tr>\n",
       "    <tr>\n",
       "      <th>953</th>\n",
       "      <td>2014</td>\n",
       "      <td>SUBARU</td>\n",
       "      <td>IMPREZA WAGON AWD</td>\n",
       "      <td>STATION WAGON - SMALL</td>\n",
       "      <td>2.5</td>\n",
       "      <td>4</td>\n",
       "      <td>M5</td>\n",
       "      <td>Z</td>\n",
       "      <td>12.6</td>\n",
       "      <td>9.5</td>\n",
       "      <td>11.2</td>\n",
       "      <td>25</td>\n",
       "      <td>258</td>\n",
       "    </tr>\n",
       "  </tbody>\n",
       "</table>\n",
       "</div>"
      ],
      "text/plain": [
       "      MODELYEAR        MAKE              MODEL             VEHICLECLASS  \\\n",
       "428        2014        FORD    TRANSIT CONNECT  SPECIAL PURPOSE VEHICLE   \n",
       "131        2014         BMW       X5 xDRIVE50i           SUV - STANDARD   \n",
       "1051       2014  VOLKSWAGEN             TIGUAN              SUV - SMALL   \n",
       "662        2014       LEXUS             IS 250                  COMPACT   \n",
       "832        2014      NISSAN               370Z               TWO-SEATER   \n",
       "953        2014      SUBARU  IMPREZA WAGON AWD    STATION WAGON - SMALL   \n",
       "\n",
       "      ENGINESIZE  CYLINDERS TRANSMISSION FUELTYPE  FUELCONSUMPTION_CITY  \\\n",
       "428          1.6          4          AS6        X                  10.8   \n",
       "131          4.4          8           A8        Z                  16.3   \n",
       "1051         2.0          4           A6        Z                  11.7   \n",
       "662          2.5          6          AS6        Z                  11.2   \n",
       "832          3.7          6          AS7        Z                  12.6   \n",
       "953          2.5          4           M5        Z                  12.6   \n",
       "\n",
       "      FUELCONSUMPTION_HWY  FUELCONSUMPTION_COMB  FUELCONSUMPTION_COMB_MPG  \\\n",
       "428                   8.0                   9.5                        30   \n",
       "131                  10.9                  13.9                        20   \n",
       "1051                  9.5                  10.7                        26   \n",
       "662                   7.8                   9.7                        29   \n",
       "832                   9.1                  11.0                        26   \n",
       "953                   9.5                  11.2                        25   \n",
       "\n",
       "      CO2EMISSIONS  \n",
       "428            218  \n",
       "131            320  \n",
       "1051           246  \n",
       "662            223  \n",
       "832            253  \n",
       "953            258  "
      ]
     },
     "execution_count": 5,
     "metadata": {},
     "output_type": "execute_result"
    }
   ],
   "source": [
    "data.sample(6)"
   ]
  },
  {
   "cell_type": "markdown",
   "metadata": {},
   "source": [
    "**Forward-Backward selection with all candidate predictors.**"
   ]
  },
  {
   "cell_type": "markdown",
   "metadata": {},
   "source": [
    "## Proposition of correction for a Forward selection"
   ]
  },
  {
   "cell_type": "code",
   "execution_count": 36,
   "metadata": {},
   "outputs": [
    {
     "data": {
      "text/plain": [
       "MODELYEAR                     1\n",
       "MAKE                         39\n",
       "MODEL                       663\n",
       "VEHICLECLASS                 16\n",
       "ENGINESIZE                   45\n",
       "CYLINDERS                     7\n",
       "TRANSMISSION                 22\n",
       "FUELTYPE                      4\n",
       "FUELCONSUMPTION_CITY        167\n",
       "FUELCONSUMPTION_HWY         118\n",
       "FUELCONSUMPTION_COMB        148\n",
       "FUELCONSUMPTION_COMB_MPG     43\n",
       "CO2EMISSIONS                159\n",
       "dtype: int64"
      ]
     },
     "execution_count": 36,
     "metadata": {},
     "output_type": "execute_result"
    }
   ],
   "source": [
    "data.nunique()"
   ]
  },
  {
   "cell_type": "markdown",
   "metadata": {},
   "source": [
    "* Numeric features (ordered set): 'MODELYEAR', 'ENGINESIZE', 'CYLINDERS', 'FUELCONSUMPTION_CITY', 'FUELCONSUMPTION_HWY', 'FUELCONSUMPTION_COMB', 'FUELCONSUMPTION_COMB_MPG'\n",
    "* Non-numeric features: 'MAKE', 'MODEL', 'VEHICLECLASS', 'TRANSMISSION', 'FUELTYPE'\n",
    "Even if we know that features are strongly correlated (fuel consumption features) and that 'MODELYEAR' has a unique value, we will consider all numeric features to check if the results match the intuition.\n",
    "Concerning the non-numeric features, 'FUELTYPE' can take 4 differents values so we will encode it and consider it in the following. The other features take too many different values, we could encode it as well, but it would make too many features (possible to handle but more complex to understand). One other possibility could be to group values (feature engineering), e.g. the values of 'VEHICLECLASS' can be organized in three clusters little/middle/big cars."
   ]
  },
  {
   "cell_type": "markdown",
   "metadata": {},
   "source": [
    "For the sake of simplicity, we do not consider all non-numeric features here:"
   ]
  },
  {
   "cell_type": "code",
   "execution_count": 44,
   "metadata": {},
   "outputs": [
    {
     "data": {
      "text/html": [
       "<div>\n",
       "<style scoped>\n",
       "    .dataframe tbody tr th:only-of-type {\n",
       "        vertical-align: middle;\n",
       "    }\n",
       "\n",
       "    .dataframe tbody tr th {\n",
       "        vertical-align: top;\n",
       "    }\n",
       "\n",
       "    .dataframe thead th {\n",
       "        text-align: right;\n",
       "    }\n",
       "</style>\n",
       "<table border=\"1\" class=\"dataframe\">\n",
       "  <thead>\n",
       "    <tr style=\"text-align: right;\">\n",
       "      <th></th>\n",
       "      <th>MODELYEAR</th>\n",
       "      <th>ENGINESIZE</th>\n",
       "      <th>CYLINDERS</th>\n",
       "      <th>FUELCONSUMPTION_CITY</th>\n",
       "      <th>FUELCONSUMPTION_HWY</th>\n",
       "      <th>FUELCONSUMPTION_COMB</th>\n",
       "      <th>FUELCONSUMPTION_COMB_MPG</th>\n",
       "      <th>FUELTYPE_is_D</th>\n",
       "      <th>FUELTYPE_is_E</th>\n",
       "      <th>FUELTYPE_is_X</th>\n",
       "      <th>FUELTYPE_is_Z</th>\n",
       "    </tr>\n",
       "  </thead>\n",
       "  <tbody>\n",
       "    <tr>\n",
       "      <th>503</th>\n",
       "      <td>2014</td>\n",
       "      <td>1.6</td>\n",
       "      <td>4</td>\n",
       "      <td>8.7</td>\n",
       "      <td>6.4</td>\n",
       "      <td>7.7</td>\n",
       "      <td>37</td>\n",
       "      <td>0</td>\n",
       "      <td>0</td>\n",
       "      <td>1</td>\n",
       "      <td>0</td>\n",
       "    </tr>\n",
       "    <tr>\n",
       "      <th>531</th>\n",
       "      <td>2014</td>\n",
       "      <td>3.7</td>\n",
       "      <td>6</td>\n",
       "      <td>13.6</td>\n",
       "      <td>9.3</td>\n",
       "      <td>11.7</td>\n",
       "      <td>24</td>\n",
       "      <td>0</td>\n",
       "      <td>0</td>\n",
       "      <td>0</td>\n",
       "      <td>1</td>\n",
       "    </tr>\n",
       "    <tr>\n",
       "      <th>324</th>\n",
       "      <td>2014</td>\n",
       "      <td>3.6</td>\n",
       "      <td>6</td>\n",
       "      <td>13.9</td>\n",
       "      <td>9.8</td>\n",
       "      <td>12.1</td>\n",
       "      <td>23</td>\n",
       "      <td>0</td>\n",
       "      <td>0</td>\n",
       "      <td>1</td>\n",
       "      <td>0</td>\n",
       "    </tr>\n",
       "    <tr>\n",
       "      <th>888</th>\n",
       "      <td>2014</td>\n",
       "      <td>3.4</td>\n",
       "      <td>6</td>\n",
       "      <td>11.3</td>\n",
       "      <td>7.9</td>\n",
       "      <td>9.8</td>\n",
       "      <td>29</td>\n",
       "      <td>0</td>\n",
       "      <td>0</td>\n",
       "      <td>0</td>\n",
       "      <td>1</td>\n",
       "    </tr>\n",
       "    <tr>\n",
       "      <th>326</th>\n",
       "      <td>2014</td>\n",
       "      <td>3.6</td>\n",
       "      <td>6</td>\n",
       "      <td>13.7</td>\n",
       "      <td>9.4</td>\n",
       "      <td>11.8</td>\n",
       "      <td>24</td>\n",
       "      <td>0</td>\n",
       "      <td>0</td>\n",
       "      <td>1</td>\n",
       "      <td>0</td>\n",
       "    </tr>\n",
       "    <tr>\n",
       "      <th>956</th>\n",
       "      <td>2014</td>\n",
       "      <td>2.5</td>\n",
       "      <td>4</td>\n",
       "      <td>11.3</td>\n",
       "      <td>8.2</td>\n",
       "      <td>9.9</td>\n",
       "      <td>29</td>\n",
       "      <td>0</td>\n",
       "      <td>0</td>\n",
       "      <td>1</td>\n",
       "      <td>0</td>\n",
       "    </tr>\n",
       "  </tbody>\n",
       "</table>\n",
       "</div>"
      ],
      "text/plain": [
       "     MODELYEAR  ENGINESIZE  CYLINDERS  FUELCONSUMPTION_CITY  \\\n",
       "503       2014         1.6          4                   8.7   \n",
       "531       2014         3.7          6                  13.6   \n",
       "324       2014         3.6          6                  13.9   \n",
       "888       2014         3.4          6                  11.3   \n",
       "326       2014         3.6          6                  13.7   \n",
       "956       2014         2.5          4                  11.3   \n",
       "\n",
       "     FUELCONSUMPTION_HWY  FUELCONSUMPTION_COMB  FUELCONSUMPTION_COMB_MPG  \\\n",
       "503                  6.4                   7.7                        37   \n",
       "531                  9.3                  11.7                        24   \n",
       "324                  9.8                  12.1                        23   \n",
       "888                  7.9                   9.8                        29   \n",
       "326                  9.4                  11.8                        24   \n",
       "956                  8.2                   9.9                        29   \n",
       "\n",
       "     FUELTYPE_is_D  FUELTYPE_is_E  FUELTYPE_is_X  FUELTYPE_is_Z  \n",
       "503              0              0              1              0  \n",
       "531              0              0              0              1  \n",
       "324              0              0              1              0  \n",
       "888              0              0              0              1  \n",
       "326              0              0              1              0  \n",
       "956              0              0              1              0  "
      ]
     },
     "execution_count": 44,
     "metadata": {},
     "output_type": "execute_result"
    }
   ],
   "source": [
    "features = ['MODELYEAR', 'ENGINESIZE', 'CYLINDERS', 'FUELTYPE', 'FUELCONSUMPTION_CITY', 'FUELCONSUMPTION_HWY', 'FUELCONSUMPTION_COMB', 'FUELCONSUMPTION_COMB_MPG']\n",
    "\n",
    "# Data encoding\n",
    "X = pd.get_dummies(data[features], columns=['FUELTYPE'], prefix=['FUELTYPE_is'])\n",
    "\n",
    "y = data['CO2EMISSIONS'].values.reshape(-1,1)\n",
    "\n",
    "X.sample(6)"
   ]
  },
  {
   "cell_type": "code",
   "execution_count": 45,
   "metadata": {},
   "outputs": [],
   "source": [
    "from sklearn.model_selection import train_test_split\n",
    "X_train, X_test, y_train, y_test = train_test_split(X, y, test_size = 1/3, random_state = 0)"
   ]
  },
  {
   "cell_type": "code",
   "execution_count": 251,
   "metadata": {},
   "outputs": [
    {
     "name": "stdout",
     "output_type": "stream",
     "text": [
      "==== Step 1 ====================\n",
      "    > Test with adding MODELYEAR: RSS = 1417024, R2 = -0.015\n",
      "    > Test with adding ENGINESIZE: RSS = 373781, R2 = 0.732\n",
      "    > Test with adding CYLINDERS: RSS = 421034, R2 = 0.699\n",
      "    > Test with adding FUELCONSUMPTION_CITY: RSS = 299084, R2 = 0.786\n",
      "    > Test with adding FUELCONSUMPTION_HWY: RSS = 375498, R2 = 0.731\n",
      "    > Test with adding FUELCONSUMPTION_COMB: RSS = 309995, R2 = 0.778\n",
      "    > Test with adding FUELCONSUMPTION_COMB_MPG: RSS = 281191, R2 = 0.799\n",
      "    > Test with adding FUELTYPE_is_D: RSS = 1411012, R2 = -0.01\n",
      "    > Test with adding FUELTYPE_is_E: RSS = 1375184, R2 = 0.015\n",
      "    > Test with adding FUELTYPE_is_X: RSS = 1329330, R2 = 0.048\n",
      "    > Test with adding FUELTYPE_is_Z: RSS = 1377875, R2 = 0.013\n",
      "=> We select FUELCONSUMPTION_COMB_MPG, features list is now ['FUELCONSUMPTION_COMB_MPG']  with RSS = 281191, R2 = 0.799\n",
      "\n",
      "==== Step 2 ====================\n",
      "    > Test with adding MODELYEAR: RSS = 281191, R2 = 0.799\n",
      "    > Test with adding ENGINESIZE: RSS = 187755, R2 = 0.866\n",
      "    > Test with adding CYLINDERS: RSS = 195350, R2 = 0.86\n",
      "    > Test with adding FUELCONSUMPTION_CITY: RSS = 248129, R2 = 0.822\n",
      "    > Test with adding FUELCONSUMPTION_HWY: RSS = 251879, R2 = 0.82\n",
      "    > Test with adding FUELCONSUMPTION_COMB: RSS = 246600, R2 = 0.823\n",
      "    > Test with adding FUELTYPE_is_D: RSS = 277681, R2 = 0.801\n",
      "    > Test with adding FUELTYPE_is_E: RSS = 194287, R2 = 0.861\n",
      "    > Test with adding FUELTYPE_is_X: RSS = 279246, R2 = 0.8\n",
      "    > Test with adding FUELTYPE_is_Z: RSS = 273996, R2 = 0.804\n",
      "=> We select ENGINESIZE, features list is now ['FUELCONSUMPTION_COMB_MPG', 'ENGINESIZE']  with RSS = 187755, R2 = 0.866\n",
      "\n",
      "==== Step 3 ====================\n",
      "    > Test with adding MODELYEAR: RSS = 187755, R2 = 0.866\n",
      "    > Test with adding CYLINDERS: RSS = 184270, R2 = 0.868\n",
      "    > Test with adding FUELCONSUMPTION_CITY: RSS = 184185, R2 = 0.868\n",
      "    > Test with adding FUELCONSUMPTION_HWY: RSS = 179968, R2 = 0.871\n",
      "    > Test with adding FUELCONSUMPTION_COMB: RSS = 181936, R2 = 0.87\n",
      "    > Test with adding FUELTYPE_is_D: RSS = 184650, R2 = 0.868\n",
      "    > Test with adding FUELTYPE_is_E: RSS = 124560, R2 = 0.911\n",
      "    > Test with adding FUELTYPE_is_X: RSS = 182093, R2 = 0.87\n",
      "    > Test with adding FUELTYPE_is_Z: RSS = 186175, R2 = 0.867\n",
      "=> We select FUELTYPE_is_E, features list is now ['FUELCONSUMPTION_COMB_MPG', 'ENGINESIZE', 'FUELTYPE_is_E']  with RSS = 124560, R2 = 0.911\n",
      "\n",
      "==== Step 4 ====================\n",
      "    > Test with adding MODELYEAR: RSS = 124560, R2 = 0.911\n",
      "    > Test with adding CYLINDERS: RSS = 123329, R2 = 0.912\n",
      "    > Test with adding FUELCONSUMPTION_CITY: RSS = 27020, R2 = 0.981\n",
      "    > Test with adding FUELCONSUMPTION_HWY: RSS = 37122, R2 = 0.973\n",
      "    > Test with adding FUELCONSUMPTION_COMB: RSS = 17444, R2 = 0.988\n",
      "    > Test with adding FUELTYPE_is_D: RSS = 121353, R2 = 0.913\n",
      "    > Test with adding FUELTYPE_is_X: RSS = 124259, R2 = 0.911\n",
      "    > Test with adding FUELTYPE_is_Z: RSS = 123736, R2 = 0.911\n",
      "=> We select FUELCONSUMPTION_COMB, features list is now ['FUELCONSUMPTION_COMB_MPG', 'ENGINESIZE', 'FUELTYPE_is_E', 'FUELCONSUMPTION_COMB']  with RSS = 17444, R2 = 0.988\n",
      "\n",
      "==== Step 5 ====================\n",
      "    > Test with adding MODELYEAR: RSS = 17444, R2 = 0.988\n",
      "    > Test with adding CYLINDERS: RSS = 17303, R2 = 0.988\n",
      "    > Test with adding FUELCONSUMPTION_CITY: RSS = 17347, R2 = 0.988\n",
      "    > Test with adding FUELCONSUMPTION_HWY: RSS = 17333, R2 = 0.988\n",
      "    > Test with adding FUELTYPE_is_D: RSS = 12512, R2 = 0.991\n",
      "    > Test with adding FUELTYPE_is_X: RSS = 17342, R2 = 0.988\n",
      "    > Test with adding FUELTYPE_is_Z: RSS = 17488, R2 = 0.987\n",
      "=> We select FUELTYPE_is_D, features list is now ['FUELCONSUMPTION_COMB_MPG', 'ENGINESIZE', 'FUELTYPE_is_E', 'FUELCONSUMPTION_COMB', 'FUELTYPE_is_D']  with RSS = 12512, R2 = 0.991\n",
      "\n",
      "==== Step 6 ====================\n",
      "    > Test with adding MODELYEAR: RSS = 12512, R2 = 0.991\n",
      "    > Test with adding CYLINDERS: RSS = 12344, R2 = 0.991\n",
      "    > Test with adding FUELCONSUMPTION_CITY: RSS = 12508, R2 = 0.991\n",
      "    > Test with adding FUELCONSUMPTION_HWY: RSS = 12502, R2 = 0.991\n",
      "    > Test with adding FUELTYPE_is_X: RSS = 12552, R2 = 0.991\n",
      "    > Test with adding FUELTYPE_is_Z: RSS = 12552, R2 = 0.991\n",
      "=> We select CYLINDERS, features list is now ['FUELCONSUMPTION_COMB_MPG', 'ENGINESIZE', 'FUELTYPE_is_E', 'FUELCONSUMPTION_COMB', 'FUELTYPE_is_D', 'CYLINDERS']  with RSS = 12344, R2 = 0.991\n",
      "\n",
      "==== Step 7 ====================\n",
      "    > Test with adding MODELYEAR: RSS = 12344, R2 = 0.991\n",
      "    > Test with adding FUELCONSUMPTION_CITY: RSS = 12388, R2 = 0.991\n",
      "    > Test with adding FUELCONSUMPTION_HWY: RSS = 12380, R2 = 0.991\n",
      "    > Test with adding FUELTYPE_is_X: RSS = 12385, R2 = 0.991\n",
      "    > Test with adding FUELTYPE_is_Z: RSS = 12385, R2 = 0.991\n",
      "=> We select MODELYEAR, features list is now ['FUELCONSUMPTION_COMB_MPG', 'ENGINESIZE', 'FUELTYPE_is_E', 'FUELCONSUMPTION_COMB', 'FUELTYPE_is_D', 'CYLINDERS', 'MODELYEAR']  with RSS = 12344, R2 = 0.991\n",
      "\n",
      "==== Step 8 ====================\n",
      "    > Test with adding FUELCONSUMPTION_CITY: RSS = 12388, R2 = 0.991\n",
      "    > Test with adding FUELCONSUMPTION_HWY: RSS = 12380, R2 = 0.991\n",
      "    > Test with adding FUELTYPE_is_X: RSS = 12385, R2 = 0.991\n",
      "    > Test with adding FUELTYPE_is_Z: RSS = 12385, R2 = 0.991\n",
      "=> We select FUELCONSUMPTION_HWY, features list is now ['FUELCONSUMPTION_COMB_MPG', 'ENGINESIZE', 'FUELTYPE_is_E', 'FUELCONSUMPTION_COMB', 'FUELTYPE_is_D', 'CYLINDERS', 'MODELYEAR', 'FUELCONSUMPTION_HWY']  with RSS = 12380, R2 = 0.991\n",
      "\n",
      "==== Step 9 ====================\n",
      "    > Test with adding FUELCONSUMPTION_CITY: RSS = 12388, R2 = 0.991\n",
      "    > Test with adding FUELTYPE_is_X: RSS = 12394, R2 = 0.991\n",
      "    > Test with adding FUELTYPE_is_Z: RSS = 12394, R2 = 0.991\n",
      "=> We select FUELCONSUMPTION_CITY, features list is now ['FUELCONSUMPTION_COMB_MPG', 'ENGINESIZE', 'FUELTYPE_is_E', 'FUELCONSUMPTION_COMB', 'FUELTYPE_is_D', 'CYLINDERS', 'MODELYEAR', 'FUELCONSUMPTION_HWY', 'FUELCONSUMPTION_CITY']  with RSS = 12388, R2 = 0.991\n",
      "\n",
      "==== Step 10 ====================\n",
      "    > Test with adding FUELTYPE_is_X: RSS = 12410, R2 = 0.991\n",
      "    > Test with adding FUELTYPE_is_Z: RSS = 12410, R2 = 0.991\n",
      "=> We select FUELTYPE_is_X, features list is now ['FUELCONSUMPTION_COMB_MPG', 'ENGINESIZE', 'FUELTYPE_is_E', 'FUELCONSUMPTION_COMB', 'FUELTYPE_is_D', 'CYLINDERS', 'MODELYEAR', 'FUELCONSUMPTION_HWY', 'FUELCONSUMPTION_CITY', 'FUELTYPE_is_X']  with RSS = 12410, R2 = 0.991\n",
      "\n",
      "==== Step 11 ====================\n",
      "    > Test with adding FUELTYPE_is_Z: RSS = 12410, R2 = 0.991\n",
      "=> We select FUELTYPE_is_Z, features list is now ['FUELCONSUMPTION_COMB_MPG', 'ENGINESIZE', 'FUELTYPE_is_E', 'FUELCONSUMPTION_COMB', 'FUELTYPE_is_D', 'CYLINDERS', 'MODELYEAR', 'FUELCONSUMPTION_HWY', 'FUELCONSUMPTION_CITY', 'FUELTYPE_is_X', 'FUELTYPE_is_Z']  with RSS = 12410, R2 = 0.991\n",
      "\n"
     ]
    }
   ],
   "source": [
    "from sklearn.linear_model import LinearRegression\n",
    "\n",
    "# We prepare our lists of features. The list features_in corresponds to \n",
    "# the selected features and one feature will be added at each step. The\n",
    "# list features_out corresponds to the candidate features (not already\n",
    "# selected) and one feature will be removed from this list at each step\n",
    "# (the feature transfered to features_in).\n",
    "features_in = []\n",
    "features_out = X.columns.values.tolist()\n",
    "\n",
    "# We prepare list to store the model scores each time a feature is added to the model.\n",
    "rss_list = []\n",
    "r2_list = []\n",
    "\n",
    "# Loop on all the features. Based on the score they add to the model, there will be ordered\n",
    "# in features_in based.\n",
    "for i in range(len(X.columns)):\n",
    "    \n",
    "    print('==== Step ' + str(i+1) + ' ====================') \n",
    "        \n",
    "    # Prepare a temporary dataframe for storing the scores\n",
    "    score_list = pd.DataFrame(columns=['feature_candidate', 'rss', 'r2'])\n",
    "    \n",
    "    # Loop on feature candidates to check which one provide the most reduction on RSS.\n",
    "    for feature_candidate in features_out:\n",
    "\n",
    "        # Create dataframe of features to test\n",
    "        features_in_test = features_in + [feature_candidate]\n",
    "        # X_train_test = pd.concat([X_train[features_in], X_train[features_out]], axis=1)\n",
    "\n",
    "        # Train regression\n",
    "        reg = LinearRegression()\n",
    "        reg.fit(X_train[features_in_test], y_train)\n",
    "        y_pred = reg.predict(X_test[features_in_test])\n",
    "\n",
    "        # Deduce performance\n",
    "        rss = sum((y_pred - y_test) ** 2)[0]\n",
    "        r2 = reg.score(X_test[features_in_test], y_test)\n",
    "        print('    > Test with adding ' + feature_candidate + ': RSS = ' + str(int(rss)) + ', R2 = ' + str(round(r2,3)))\n",
    "\n",
    "        # Store the results in a dataframe\n",
    "        score_list = score_list.append({'feature_candidate': feature_candidate, 'rss': rss, 'r2': r2}, ignore_index=True)\n",
    "\n",
    "    # We keep the feature_candidate giving the minimum score\n",
    "    feature_selected = score_list['feature_candidate'][score_list['rss'].argmin()]\n",
    "    features_in.append(feature_selected)\n",
    "    features_out.remove(feature_selected)\n",
    "    rss_selected = score_list['rss'].min()\n",
    "    r2_selected = score_list['r2'][score_list['rss'].argmin()]\n",
    "    rss_list.append(rss_selected)\n",
    "    r2_list.append(r2_selected)\n",
    "    print('=> We select ' + str(feature_selected) + ', features list is now ' + str(features_in), ' with RSS = ' + str(int(rss_selected)) + ', R2 = ' + str(round(r2_selected,3)) + '\\n')\n"
   ]
  },
  {
   "cell_type": "markdown",
   "metadata": {},
   "source": [
    "**Interpretation**:<br>\n",
    "We have ordered the predictors in list features_in so to optimize the reduction of RSS. Let's now determine which number of predictors to keep. The other way to proceed it to set a threshold in the code above so to stop the loop once the RSS reduction is too small (e.g. less than 10 %)."
   ]
  },
  {
   "cell_type": "code",
   "execution_count": 235,
   "metadata": {},
   "outputs": [
    {
     "data": {
      "image/png": "[encoded data removed]",
      "text/plain": [
       "<Figure size 432x288 with 1 Axes>"
      ]
     },
     "metadata": {
      "needs_background": "light"
     },
     "output_type": "display_data"
    }
   ],
   "source": [
    "plt.figsize=(5,5)\n",
    "plt.plot(features_in, rss_list, c='blue')\n",
    "plt.xticks(rotation=90)\n",
    "plt.xlabel('Feature added to the previous ones')\n",
    "plt.ylabel('RSS of the model')\n",
    "plt.title('Evolution of the RSS when adding new predictors')\n",
    "plt.grid()\n",
    "plt.show()"
   ]
  },
  {
   "cell_type": "code",
   "execution_count": 236,
   "metadata": {},
   "outputs": [
    {
     "data": {
      "image/png": "[encoded data removed]",
      "text/plain": [
       "<Figure size 432x288 with 1 Axes>"
      ]
     },
     "metadata": {
      "needs_background": "light"
     },
     "output_type": "display_data"
    }
   ],
   "source": [
    "plt.figsize=(5,5)\n",
    "plt.plot(features_in, r2_list, c='red')\n",
    "plt.xticks(rotation=90)\n",
    "plt.xlabel('Feature added to the previous ones')\n",
    "plt.ylabel('R2-square of the model')\n",
    "plt.title('Evolution of the R2-square when adding new predictors')\n",
    "plt.grid()\n",
    "plt.show()"
   ]
  },
  {
   "cell_type": "markdown",
   "metadata": {},
   "source": [
    "We can apply here the \"Elbow method\" and these plots and keep the four first predictors of the ordered list features_in. If we add more predictors, the RSS reduction is then much less significant, probably because we have reached a floor due to dataset inherent error."
   ]
  },
  {
   "cell_type": "code",
   "execution_count": 246,
   "metadata": {},
   "outputs": [
    {
     "name": "stdout",
     "output_type": "stream",
     "text": [
      "['FUELCONSUMPTION_COMB_MPG', 'ENGINESIZE', 'FUELTYPE_is_E', 'FUELCONSUMPTION_COMB']\n"
     ]
    }
   ],
   "source": [
    "print(features_in[:4])"
   ]
  },
  {
   "cell_type": "markdown",
   "metadata": {},
   "source": [
    "Let's check the performance we get with these four predictors."
   ]
  },
  {
   "cell_type": "code",
   "execution_count": 244,
   "metadata": {},
   "outputs": [
    {
     "name": "stdout",
     "output_type": "stream",
     "text": [
      "                            OLS Regression Results                            \n",
      "==============================================================================\n",
      "Dep. Variable:                      y   R-squared:                       0.986\n",
      "Model:                            OLS   Adj. R-squared:                  0.986\n",
      "Method:                 Least Squares   F-statistic:                 1.872e+04\n",
      "Date:                Sun, 07 Feb 2021   Prob (F-statistic):               0.00\n",
      "Time:                        17:56:42   Log-Likelihood:                -3662.6\n",
      "No. Observations:                1067   AIC:                             7335.\n",
      "Df Residuals:                    1062   BIC:                             7360.\n",
      "Df Model:                           4                                         \n",
      "Covariance Type:            nonrobust                                         \n",
      "============================================================================================\n",
      "                               coef    std err          t      P>|t|      [0.025      0.975]\n",
      "--------------------------------------------------------------------------------------------\n",
      "const                       77.9145      4.716     16.523      0.000      68.662      87.167\n",
      "FUELCONSUMPTION_COMB_MPG    -1.1798      0.089    -13.183      0.000      -1.355      -1.004\n",
      "ENGINESIZE                   2.6818      0.331      8.102      0.000       2.032       3.331\n",
      "FUELTYPE_is_E             -109.6461      1.242    -88.295      0.000    -112.083    -107.209\n",
      "FUELCONSUMPTION_COMB        18.1325      0.251     72.260      0.000      17.640      18.625\n",
      "==============================================================================\n",
      "Omnibus:                      601.748   Durbin-Watson:                   1.958\n",
      "Prob(Omnibus):                  0.000   Jarque-Bera (JB):             5778.418\n",
      "Skew:                           2.444   Prob(JB):                         0.00\n",
      "Kurtosis:                      13.299   Cond. No.                         612.\n",
      "==============================================================================\n",
      "\n",
      "Notes:\n",
      "[1] Standard Errors assume that the covariance matrix of the errors is correctly specified.\n"
     ]
    }
   ],
   "source": [
    "import statsmodels.api as sm\n",
    "X_sm = sm.add_constant(X[features_in[:4]])\n",
    "regressor = sm.OLS(y, X_sm).fit()\n",
    "print(regressor.summary())"
   ]
  }
 ],
 "metadata": {
  "kernelspec": {
   "display_name": "Python 3",
   "language": "python",
   "name": "python3"
  },
  "language_info": {
   "codemirror_mode": {
    "name": "ipython",
    "version": 3
   },
   "file_extension": ".py",
   "mimetype": "text/x-python",
   "name": "python",
   "nbconvert_exporter": "python",
   "pygments_lexer": "ipython3",
   "version": "3.8.5"
  }
 },
 "nbformat": 4,
 "nbformat_minor": 4
}
